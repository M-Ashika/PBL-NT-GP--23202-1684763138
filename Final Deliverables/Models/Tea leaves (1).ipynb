{
  "nbformat": 4,
  "nbformat_minor": 0,
  "metadata": {
    "colab": {
      "provenance": []
    },
    "kernelspec": {
      "name": "python3",
      "display_name": "Python 3"
    },
    "language_info": {
      "name": "python"
    }
  },
  "cells": [
    {
      "cell_type": "code",
      "execution_count": 1,
      "metadata": {
        "colab": {
          "base_uri": "https://localhost:8080/"
        },
        "id": "xuI9MZHnAAhX",
        "outputId": "cef30b7a-7b68-4d4e-b91f-500aabf79571"
      },
      "outputs": [
        {
          "output_type": "stream",
          "name": "stdout",
          "text": [
            "Mounted at /content/drive\n"
          ]
        }
      ],
      "source": [
        "from google.colab import drive\n",
        "drive.mount('/content/drive')"
      ]
    },
    {
      "cell_type": "code",
      "source": [
        "#Extracting Data\n",
        "!unzip \"/content/drive/MyDrive/Tea leaves/NM project/Tea leaves."
      ],
      "metadata": {
        "colab": {
          "base_uri": "https://localhost:8080/"
        },
        "id": "U2KMpY5JBzCb",
        "outputId": "50155b32-a52c-4659-9574-d150b84dcbfb"
      },
      "execution_count": 2,
      "outputs": [
        {
          "output_type": "stream",
          "name": "stdout",
          "text": [
            "/bin/bash: -c: line 0: unexpected EOF while looking for matching `\"'\n",
            "/bin/bash: -c: line 1: syntax error: unexpected end of file\n"
          ]
        }
      ]
    },
    {
      "cell_type": "code",
      "source": [
        "from tensorflow.keras.preprocessing.image import ImageDataGenerator"
      ],
      "metadata": {
        "id": "BZmcnFnjCqDl"
      },
      "execution_count": 3,
      "outputs": []
    },
    {
      "cell_type": "code",
      "source": [
        "#Augmentation On Training Variable\n",
        "train_datagen = ImageDataGenerator(rescale= 1./255,\n",
        "                 zoom_range=0.2,\n",
        "                 horizontal_flip =True)"
      ],
      "metadata": {
        "id": "juwd0_ErCqIp"
      },
      "execution_count": 4,
      "outputs": []
    },
    {
      "cell_type": "code",
      "source": [
        "#Augmentation On Testing Variable\n",
        "test_datagen = ImageDataGenerator(rescale= 1./255)"
      ],
      "metadata": {
        "id": "MtOmm_QpCqO6"
      },
      "execution_count": 5,
      "outputs": []
    },
    {
      "cell_type": "code",
      "source": [
        "#Augmentation On Training Variable\n",
        "ftrain = train_datagen.flow_from_directory('/content/drive/MyDrive/Tea leaves/NM project/Test',\n",
        "                                           target_size=(64,64),\n",
        "                                           class_mode='categorical',\n",
        "                                           batch_size=100)"
      ],
      "metadata": {
        "colab": {
          "base_uri": "https://localhost:8080/"
        },
        "id": "2ZXq_k33CqTr",
        "outputId": "727563b4-3ad8-466f-e4af-e2e6a78af132"
      },
      "execution_count": 6,
      "outputs": [
        {
          "output_type": "stream",
          "name": "stdout",
          "text": [
            "Found 32 images belonging to 4 classes.\n"
          ]
        }
      ]
    },
    {
      "cell_type": "code",
      "source": [
        "#Augmentation On Testing Variable\n",
        "ftest = test_datagen.flow_from_directory('/content/drive/MyDrive/Tea leaves/NM project/Test',\n",
        "                                          target_size=(64,64),\n",
        "                                          class_mode='categorical',\n",
        "                                          batch_size=100)"
      ],
      "metadata": {
        "colab": {
          "base_uri": "https://localhost:8080/"
        },
        "id": "8CbyHpBKCqdn",
        "outputId": "0a02aaa8-1ed6-49cc-9481-ac9b15fb1182"
      },
      "execution_count": 7,
      "outputs": [
        {
          "output_type": "stream",
          "name": "stdout",
          "text": [
            "Found 32 images belonging to 4 classes.\n"
          ]
        }
      ]
    },
    {
      "cell_type": "code",
      "source": [
        "#Import req. Lib.\n",
        "from tensorflow.keras.models import Sequential\n",
        "from tensorflow.keras.layers import Convolution2D, MaxPooling2D, Flatten, Dense"
      ],
      "metadata": {
        "id": "ZClxR65MCqiA"
      },
      "execution_count": 8,
      "outputs": []
    },
    {
      "cell_type": "code",
      "source": [
        "# Build a CNN Block:\n",
        "model = Sequential() #intializing sequential model\n",
        "model.add(Convolution2D(32,(3,3),activation='relu', input_shape=(64,64,3))) #convolution layer\n",
        "model.add(MaxPooling2D(pool_size=(2, 2))) #Maxpooling layer\n",
        "model.add(Flatten()) #Flatten layer\n",
        "model.add(Dense(400,activation='relu')) #Hidden Layer 1\n",
        "model.add(Dense(200,activation='relu')) #Hidden Layer 2\n",
        "model.add(Dense(6,activation='softmax')) #Output Layer"
      ],
      "metadata": {
        "id": "d6Spu4-ICqm0"
      },
      "execution_count": 9,
      "outputs": []
    },
    {
      "cell_type": "code",
      "source": [
        "# Compiling The Model...\n",
        "model.compile(optimizer='adam',loss='categorical_crossentropy',metrics=['accuracy'])"
      ],
      "metadata": {
        "id": "5YQSvRjwD3Fo"
      },
      "execution_count": 10,
      "outputs": []
    },
    {
      "cell_type": "code",
      "source": [
        "#Save Model\n",
        "model.save('Garbage.h5')"
      ],
      "metadata": {
        "id": "LIKjXDE3EIvx"
      },
      "execution_count": 12,
      "outputs": []
    },
    {
      "cell_type": "code",
      "source": [
        "#Import req. Lib.\n",
        "from tensorflow.keras.preprocessing import image\n",
        "import numpy as np"
      ],
      "metadata": {
        "id": "rmvio9TYEOOr"
      },
      "execution_count": 13,
      "outputs": []
    },
    {
      "cell_type": "code",
      "source": [
        "#Test 1\n",
        "img = image.load_img('/content/drive/MyDrive/Tea leaves/NM project/Test/Anthracnose/IMG_20220503_145452.jpg',target_size=(64,64))\n",
        "f = image.img_to_array(img)\n",
        "f = np.expand_dims(f,axis=0)\n",
        "pred = np.argmax(model.predict(f))\n",
        "op = ['Bird eye spot','Gray light','Brown blight','Anthracnose','red leaf spot','White spot']\n",
        "op[pred]"
      ],
      "metadata": {
        "colab": {
          "base_uri": "https://localhost:8080/",
          "height": 53
        },
        "id": "Ft22PVpuEOVW",
        "outputId": "8d2ca390-7ed9-4de1-b099-057f2f8c02f6"
      },
      "execution_count": 14,
      "outputs": [
        {
          "output_type": "stream",
          "name": "stdout",
          "text": [
            "1/1 [==============================] - 0s 157ms/step\n"
          ]
        },
        {
          "output_type": "execute_result",
          "data": {
            "text/plain": [
              "'Trash'"
            ],
            "application/vnd.google.colaboratory.intrinsic+json": {
              "type": "string"
            }
          },
          "metadata": {},
          "execution_count": 14
        }
      ]
    },
    {
      "cell_type": "code",
      "source": [
        "#Test 2\n",
        "img = image.load_img('/content/drive/MyDrive/Tea leaves/NM project/Test/Anthracnose/IMG_20220503_145500.jpg',target_size=(64,64))\n",
        "f = image.img_to_array(img)\n",
        "f = np.expand_dims(f,axis=0) \n",
        "pred = np.argmax(model.predict(f))\n",
        "op = ['Bird eye spot','Gray light','Brown blight','Anthracnose','red leaf spot','White spot'] \n",
        "op[pred] "
      ],
      "metadata": {
        "colab": {
          "base_uri": "https://localhost:8080/",
          "height": 53
        },
        "id": "OSabxjFWEOeC",
        "outputId": "6ab6ae4c-cfbe-4b27-c2df-4b169b9f5506"
      },
      "execution_count": 15,
      "outputs": [
        {
          "output_type": "stream",
          "name": "stdout",
          "text": [
            "1/1 [==============================] - 0s 33ms/step\n"
          ]
        },
        {
          "output_type": "execute_result",
          "data": {
            "text/plain": [
              "'Trash'"
            ],
            "application/vnd.google.colaboratory.intrinsic+json": {
              "type": "string"
            }
          },
          "metadata": {},
          "execution_count": 15
        }
      ]
    },
    {
      "cell_type": "code",
      "source": [
        "#Test 3\n",
        "img = image.load_img('/content/drive/MyDrive/Tea leaves/NM project/Test/Anthracnose/IMG_20220503_145559.jpg',target_size=(64,64))\n",
        "f = image.img_to_array(img) \n",
        "f = np.expand_dims(f,axis=0) \n",
        "pred = np.argmax(model.predict(f)) \n",
        "op = ['Cardboard','Glass','Metal','Paper','Plastic','Trash'] \n",
        "op[pred] "
      ],
      "metadata": {
        "colab": {
          "base_uri": "https://localhost:8080/",
          "height": 53
        },
        "id": "E1Hkx31rE0NQ",
        "outputId": "fabe490f-bb0b-4eea-9743-00a41f79dda9"
      },
      "execution_count": 16,
      "outputs": [
        {
          "output_type": "stream",
          "name": "stdout",
          "text": [
            "1/1 [==============================] - 0s 30ms/step\n"
          ]
        },
        {
          "output_type": "execute_result",
          "data": {
            "text/plain": [
              "'Trash'"
            ],
            "application/vnd.google.colaboratory.intrinsic+json": {
              "type": "string"
            }
          },
          "metadata": {},
          "execution_count": 16
        }
      ]
    },
    {
      "cell_type": "code",
      "source": [
        "#Test 3\n",
        "img = image.load_img('/content/drive/MyDrive/Tea leaves/NM project/Test/Anthracnose/IMG_20220503_145610.jpg',target_size=(64,64))\n",
        "f = image.img_to_array(img) \n",
        "f = np.expand_dims(f,axis=0) \n",
        "pred = np.argmax(model.predict(f)) \n",
        "op = ['Bird eye spot','Gray light','Brown blight','Anthracnose','red leaf spot','White spot'] \n",
        "op[pred] \n"
      ],
      "metadata": {
        "colab": {
          "base_uri": "https://localhost:8080/",
          "height": 53
        },
        "id": "855gpxKfEOqs",
        "outputId": "18f0ba9e-45f2-4981-8c3a-90f231b24c2e"
      },
      "execution_count": 17,
      "outputs": [
        {
          "output_type": "stream",
          "name": "stdout",
          "text": [
            "1/1 [==============================] - 0s 36ms/step\n"
          ]
        },
        {
          "output_type": "execute_result",
          "data": {
            "text/plain": [
              "'Trash'"
            ],
            "application/vnd.google.colaboratory.intrinsic+json": {
              "type": "string"
            }
          },
          "metadata": {},
          "execution_count": 17
        }
      ]
    },
    {
      "cell_type": "code",
      "source": [
        "#Test 5\n",
        "img = image.load_img('/content/drive/MyDrive/Tea leaves/NM project/Test/Anthracnose/IMG_20220503_150354.jpg',target_size=(64,64))\n",
        "f = image.img_to_array(img)\n",
        "f = np.expand_dims(f,axis=0)\n",
        "pred = np.argmax(model.predict(f))\n",
        "op = ['Bird eye spot','Gray light','Brown blight','Anthracnose','red leaf spot','White spot'] \n",
        "op[pred]"
      ],
      "metadata": {
        "colab": {
          "base_uri": "https://localhost:8080/",
          "height": 53
        },
        "id": "7I0weiVtHu_I",
        "outputId": "5ac934ae-6978-4b0d-a820-8621f1891421"
      },
      "execution_count": 18,
      "outputs": [
        {
          "output_type": "stream",
          "name": "stdout",
          "text": [
            "1/1 [==============================] - 0s 31ms/step\n"
          ]
        },
        {
          "output_type": "execute_result",
          "data": {
            "text/plain": [
              "'Trash'"
            ],
            "application/vnd.google.colaboratory.intrinsic+json": {
              "type": "string"
            }
          },
          "metadata": {},
          "execution_count": 18
        }
      ]
    },
    {
      "cell_type": "code",
      "source": [
        "#Test 6\n",
        "img = image.load_img('/content/drive/MyDrive/Tea leaves/NM project/Test/Anthracnose/IMG_20220503_150043.jpg',target_size=(64,64))\n",
        "f = image.img_to_array(img)\n",
        "f = np.expand_dims(f,axis=0)\n",
        "pred = np.argmax(model.predict(f))\n",
        "op = ['Bird eye spot','Gray light','Brown blight','Anthracnose','red leaf spot','White spot']\n",
        "op[pred]"
      ],
      "metadata": {
        "colab": {
          "base_uri": "https://localhost:8080/",
          "height": 53
        },
        "id": "g4Qzq3P5H1_E",
        "outputId": "21e6602f-99d3-4f47-c57d-44526a6bd6ac"
      },
      "execution_count": 19,
      "outputs": [
        {
          "output_type": "stream",
          "name": "stdout",
          "text": [
            "1/1 [==============================] - 0s 29ms/step\n"
          ]
        },
        {
          "output_type": "execute_result",
          "data": {
            "text/plain": [
              "'Trash'"
            ],
            "application/vnd.google.colaboratory.intrinsic+json": {
              "type": "string"
            }
          },
          "metadata": {},
          "execution_count": 19
        }
      ]
    },
    {
      "cell_type": "code",
      "source": [
        "from tensorflow.keras.callbacks import EarlyStopping, ReduceLROnPlateau"
      ],
      "metadata": {
        "id": "Sw0TNJomH8cg"
      },
      "execution_count": 20,
      "outputs": []
    },
    {
      "cell_type": "code",
      "source": [
        "early_stop = EarlyStopping(monitor='val_accuracy', \n",
        "                           patience=5)\n",
        "\n",
        "lr = ReduceLROnPlateau(monitor='val_accuaracy', \n",
        "                       factor=0.5, \n",
        "                       min_lr=0.00001)\n",
        "\n",
        "callback = [early_stop,lr]"
      ],
      "metadata": {
        "id": "m65q_AluIBke"
      },
      "execution_count": 21,
      "outputs": []
    },
    {
      "cell_type": "code",
      "source": [
        "#Test 1\n",
        "img = image.load_img('/content/drive/MyDrive/Tea leaves/NM project/Test/algal leaf/UNADJUSTEDNONRAW_thumb_38.jpg',target_size=(64,64))\n",
        "f = image.img_to_array(img)\n",
        "f = np.expand_dims(f,axis=0)\n",
        "pred = np.argmax(model.predict(f))\n",
        "op = ['Bird eye spot','Gray light','Brown blight','Anthracnose','red leaf spot','White spot']\n",
        "op[pred]"
      ],
      "metadata": {
        "colab": {
          "base_uri": "https://localhost:8080/",
          "height": 53
        },
        "id": "oFOw1BGgIJAM",
        "outputId": "53d93ee9-9fc2-4a92-f280-ef6873c54301"
      },
      "execution_count": 22,
      "outputs": [
        {
          "output_type": "stream",
          "name": "stdout",
          "text": [
            "1/1 [==============================] - 0s 29ms/step\n"
          ]
        },
        {
          "output_type": "execute_result",
          "data": {
            "text/plain": [
              "'Trash'"
            ],
            "application/vnd.google.colaboratory.intrinsic+json": {
              "type": "string"
            }
          },
          "metadata": {},
          "execution_count": 22
        }
      ]
    },
    {
      "cell_type": "code",
      "source": [
        "#Test 1\n",
        "img = image.load_img('/content/drive/MyDrive/Tea leaves/NM project/Test/algal leaf/UNADJUSTEDNONRAW_thumb_39.jpg',target_size=(64,64))\n",
        "f = image.img_to_array(img)\n",
        "f = np.expand_dims(f,axis=0)\n",
        "pred = np.argmax(model.predict(f))\n",
        "op = ['Bird eye spot','Gray light','Brown blight','Anthracnose','red leaf spot','White spot']\n",
        "op[pred]"
      ],
      "metadata": {
        "colab": {
          "base_uri": "https://localhost:8080/",
          "height": 53
        },
        "id": "aIO1Pj-nIQoq",
        "outputId": "be1d06bf-0c17-4c22-f6c0-de926b746973"
      },
      "execution_count": 23,
      "outputs": [
        {
          "output_type": "stream",
          "name": "stdout",
          "text": [
            "1/1 [==============================] - 0s 130ms/step\n"
          ]
        },
        {
          "output_type": "execute_result",
          "data": {
            "text/plain": [
              "'Trash'"
            ],
            "application/vnd.google.colaboratory.intrinsic+json": {
              "type": "string"
            }
          },
          "metadata": {},
          "execution_count": 23
        }
      ]
    },
    {
      "cell_type": "code",
      "source": [
        "#Test 1\n",
        "img = image.load_img('/content/drive/MyDrive/Tea leaves/NM project/Test/algal leaf/UNADJUSTEDNONRAW_thumb_70.jpg',target_size=(64,64))\n",
        "f = image.img_to_array(img)\n",
        "f = np.expand_dims(f,axis=0)\n",
        "pred = np.argmax(model.predict(f))\n",
        "op = ['Bird eye spot','Gray light','Brown blight','Anthracnose','red leaf spot','White spot']\n",
        "op[pred]"
      ],
      "metadata": {
        "colab": {
          "base_uri": "https://localhost:8080/",
          "height": 53
        },
        "id": "5kcnh7nSIX4c",
        "outputId": "58913cac-fdf9-400c-9ee7-f4020853a363"
      },
      "execution_count": 24,
      "outputs": [
        {
          "output_type": "stream",
          "name": "stdout",
          "text": [
            "1/1 [==============================] - 0s 42ms/step\n"
          ]
        },
        {
          "output_type": "execute_result",
          "data": {
            "text/plain": [
              "'Trash'"
            ],
            "application/vnd.google.colaboratory.intrinsic+json": {
              "type": "string"
            }
          },
          "metadata": {},
          "execution_count": 24
        }
      ]
    },
    {
      "cell_type": "code",
      "source": [
        "#Test 1\n",
        "img = image.load_img('/content/drive/MyDrive/Tea leaves/NM project/Test/algal leaf/UNADJUSTEDNONRAW_thumb_a.jpg',target_size=(64,64))\n",
        "f = image.img_to_array(img)\n",
        "f = np.expand_dims(f,axis=0)\n",
        "pred = np.argmax(model.predict(f))\n",
        "op = ['Bird eye spot','Gray light','Brown blight','Anthracnose','red leaf spot','White spot']\n",
        "op[pred]"
      ],
      "metadata": {
        "colab": {
          "base_uri": "https://localhost:8080/",
          "height": 53
        },
        "id": "DWq69_adIcCl",
        "outputId": "4ce10f97-06ae-4e88-950b-f8343705821d"
      },
      "execution_count": 25,
      "outputs": [
        {
          "output_type": "stream",
          "name": "stdout",
          "text": [
            "1/1 [==============================] - 0s 36ms/step\n"
          ]
        },
        {
          "output_type": "execute_result",
          "data": {
            "text/plain": [
              "'Trash'"
            ],
            "application/vnd.google.colaboratory.intrinsic+json": {
              "type": "string"
            }
          },
          "metadata": {},
          "execution_count": 25
        }
      ]
    },
    {
      "cell_type": "code",
      "source": [
        "#Save Model\n",
        "model.save('Tea leaf.h5')"
      ],
      "metadata": {
        "id": "imI2eMZSIowU"
      },
      "execution_count": 26,
      "outputs": []
    }
  ]
}