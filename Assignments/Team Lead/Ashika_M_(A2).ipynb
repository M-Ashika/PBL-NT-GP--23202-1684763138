{
  "nbformat": 4,
  "nbformat_minor": 0,
  "metadata": {
    "colab": {
      "provenance": []
    },
    "kernelspec": {
      "name": "python3",
      "display_name": "Python 3"
    },
    "language_info": {
      "name": "python"
    }
  },
  "cells": [
    {
      "cell_type": "code",
      "execution_count": null,
      "metadata": {
        "id": "zK2nkxw3Up9s"
      },
      "outputs": [],
      "source": [
        "import numpy as np\n",
        "import pandas as pd"
      ]
    },
    {
      "cell_type": "code",
      "source": [
        "df=pd.read_csv('/content/drive/MyDrive/House Price India.csv')\n",
        "df.head()"
      ],
      "metadata": {
        "colab": {
          "base_uri": "https://localhost:8080/",
          "height": 351
        },
        "id": "VtlY3qQAV7fP",
        "outputId": "514f34ff-ac2a-4a32-e249-2a2eee4390ef"
      },
      "execution_count": null,
      "outputs": [
        {
          "output_type": "execute_result",
          "data": {
            "text/plain": [
              "           id   Date  number of bedrooms  number of bathrooms  living area  \\\n",
              "0  6762810145  42491                   5                 2.50         3650   \n",
              "1  6762810635  42491                   4                 2.50         2920   \n",
              "2  6762810998  42491                   5                 2.75         2910   \n",
              "3  6762812605  42491                   4                 2.50         3310   \n",
              "4  6762812919  42491                   3                 2.00         2710   \n",
              "\n",
              "   lot area  number of floors  waterfront present  number of views  \\\n",
              "0      9050               2.0                   0                4   \n",
              "1      4000               1.5                   0                0   \n",
              "2      9480               1.5                   0                0   \n",
              "3     42998               2.0                   0                0   \n",
              "4      4500               1.5                   0                0   \n",
              "\n",
              "   condition of the house  ...  Built Year  Renovation Year  Postal Code  \\\n",
              "0                       5  ...        1921                0       122003   \n",
              "1                       5  ...        1909                0       122004   \n",
              "2                       3  ...        1939                0       122004   \n",
              "3                       3  ...        2001                0       122005   \n",
              "4                       4  ...        1929                0       122006   \n",
              "\n",
              "   Lattitude  Longitude  living_area_renov  lot_area_renov  \\\n",
              "0    52.8645   -114.557               2880            5400   \n",
              "1    52.8878   -114.470               2470            4000   \n",
              "2    52.8852   -114.468               2940            6600   \n",
              "3    52.9532   -114.321               3350           42847   \n",
              "4    52.9047   -114.485               2060            4500   \n",
              "\n",
              "   Number of schools nearby  Distance from the airport    Price  \n",
              "0                         2                         58  2380000  \n",
              "1                         2                         51  1400000  \n",
              "2                         1                         53  1200000  \n",
              "3                         3                         76   838000  \n",
              "4                         1                         51   805000  \n",
              "\n",
              "[5 rows x 23 columns]"
            ],
            "text/html": [
              "\n",
              "  <div id=\"df-c38dc0a6-6a6e-4c57-987f-ef705a301872\">\n",
              "    <div class=\"colab-df-container\">\n",
              "      <div>\n",
              "<style scoped>\n",
              "    .dataframe tbody tr th:only-of-type {\n",
              "        vertical-align: middle;\n",
              "    }\n",
              "\n",
              "    .dataframe tbody tr th {\n",
              "        vertical-align: top;\n",
              "    }\n",
              "\n",
              "    .dataframe thead th {\n",
              "        text-align: right;\n",
              "    }\n",
              "</style>\n",
              "<table border=\"1\" class=\"dataframe\">\n",
              "  <thead>\n",
              "    <tr style=\"text-align: right;\">\n",
              "      <th></th>\n",
              "      <th>id</th>\n",
              "      <th>Date</th>\n",
              "      <th>number of bedrooms</th>\n",
              "      <th>number of bathrooms</th>\n",
              "      <th>living area</th>\n",
              "      <th>lot area</th>\n",
              "      <th>number of floors</th>\n",
              "      <th>waterfront present</th>\n",
              "      <th>number of views</th>\n",
              "      <th>condition of the house</th>\n",
              "      <th>...</th>\n",
              "      <th>Built Year</th>\n",
              "      <th>Renovation Year</th>\n",
              "      <th>Postal Code</th>\n",
              "      <th>Lattitude</th>\n",
              "      <th>Longitude</th>\n",
              "      <th>living_area_renov</th>\n",
              "      <th>lot_area_renov</th>\n",
              "      <th>Number of schools nearby</th>\n",
              "      <th>Distance from the airport</th>\n",
              "      <th>Price</th>\n",
              "    </tr>\n",
              "  </thead>\n",
              "  <tbody>\n",
              "    <tr>\n",
              "      <th>0</th>\n",
              "      <td>6762810145</td>\n",
              "      <td>42491</td>\n",
              "      <td>5</td>\n",
              "      <td>2.50</td>\n",
              "      <td>3650</td>\n",
              "      <td>9050</td>\n",
              "      <td>2.0</td>\n",
              "      <td>0</td>\n",
              "      <td>4</td>\n",
              "      <td>5</td>\n",
              "      <td>...</td>\n",
              "      <td>1921</td>\n",
              "      <td>0</td>\n",
              "      <td>122003</td>\n",
              "      <td>52.8645</td>\n",
              "      <td>-114.557</td>\n",
              "      <td>2880</td>\n",
              "      <td>5400</td>\n",
              "      <td>2</td>\n",
              "      <td>58</td>\n",
              "      <td>2380000</td>\n",
              "    </tr>\n",
              "    <tr>\n",
              "      <th>1</th>\n",
              "      <td>6762810635</td>\n",
              "      <td>42491</td>\n",
              "      <td>4</td>\n",
              "      <td>2.50</td>\n",
              "      <td>2920</td>\n",
              "      <td>4000</td>\n",
              "      <td>1.5</td>\n",
              "      <td>0</td>\n",
              "      <td>0</td>\n",
              "      <td>5</td>\n",
              "      <td>...</td>\n",
              "      <td>1909</td>\n",
              "      <td>0</td>\n",
              "      <td>122004</td>\n",
              "      <td>52.8878</td>\n",
              "      <td>-114.470</td>\n",
              "      <td>2470</td>\n",
              "      <td>4000</td>\n",
              "      <td>2</td>\n",
              "      <td>51</td>\n",
              "      <td>1400000</td>\n",
              "    </tr>\n",
              "    <tr>\n",
              "      <th>2</th>\n",
              "      <td>6762810998</td>\n",
              "      <td>42491</td>\n",
              "      <td>5</td>\n",
              "      <td>2.75</td>\n",
              "      <td>2910</td>\n",
              "      <td>9480</td>\n",
              "      <td>1.5</td>\n",
              "      <td>0</td>\n",
              "      <td>0</td>\n",
              "      <td>3</td>\n",
              "      <td>...</td>\n",
              "      <td>1939</td>\n",
              "      <td>0</td>\n",
              "      <td>122004</td>\n",
              "      <td>52.8852</td>\n",
              "      <td>-114.468</td>\n",
              "      <td>2940</td>\n",
              "      <td>6600</td>\n",
              "      <td>1</td>\n",
              "      <td>53</td>\n",
              "      <td>1200000</td>\n",
              "    </tr>\n",
              "    <tr>\n",
              "      <th>3</th>\n",
              "      <td>6762812605</td>\n",
              "      <td>42491</td>\n",
              "      <td>4</td>\n",
              "      <td>2.50</td>\n",
              "      <td>3310</td>\n",
              "      <td>42998</td>\n",
              "      <td>2.0</td>\n",
              "      <td>0</td>\n",
              "      <td>0</td>\n",
              "      <td>3</td>\n",
              "      <td>...</td>\n",
              "      <td>2001</td>\n",
              "      <td>0</td>\n",
              "      <td>122005</td>\n",
              "      <td>52.9532</td>\n",
              "      <td>-114.321</td>\n",
              "      <td>3350</td>\n",
              "      <td>42847</td>\n",
              "      <td>3</td>\n",
              "      <td>76</td>\n",
              "      <td>838000</td>\n",
              "    </tr>\n",
              "    <tr>\n",
              "      <th>4</th>\n",
              "      <td>6762812919</td>\n",
              "      <td>42491</td>\n",
              "      <td>3</td>\n",
              "      <td>2.00</td>\n",
              "      <td>2710</td>\n",
              "      <td>4500</td>\n",
              "      <td>1.5</td>\n",
              "      <td>0</td>\n",
              "      <td>0</td>\n",
              "      <td>4</td>\n",
              "      <td>...</td>\n",
              "      <td>1929</td>\n",
              "      <td>0</td>\n",
              "      <td>122006</td>\n",
              "      <td>52.9047</td>\n",
              "      <td>-114.485</td>\n",
              "      <td>2060</td>\n",
              "      <td>4500</td>\n",
              "      <td>1</td>\n",
              "      <td>51</td>\n",
              "      <td>805000</td>\n",
              "    </tr>\n",
              "  </tbody>\n",
              "</table>\n",
              "<p>5 rows × 23 columns</p>\n",
              "</div>\n",
              "      <button class=\"colab-df-convert\" onclick=\"convertToInteractive('df-c38dc0a6-6a6e-4c57-987f-ef705a301872')\"\n",
              "              title=\"Convert this dataframe to an interactive table.\"\n",
              "              style=\"display:none;\">\n",
              "        \n",
              "  <svg xmlns=\"http://www.w3.org/2000/svg\" height=\"24px\"viewBox=\"0 0 24 24\"\n",
              "       width=\"24px\">\n",
              "    <path d=\"M0 0h24v24H0V0z\" fill=\"none\"/>\n",
              "    <path d=\"M18.56 5.44l.94 2.06.94-2.06 2.06-.94-2.06-.94-.94-2.06-.94 2.06-2.06.94zm-11 1L8.5 8.5l.94-2.06 2.06-.94-2.06-.94L8.5 2.5l-.94 2.06-2.06.94zm10 10l.94 2.06.94-2.06 2.06-.94-2.06-.94-.94-2.06-.94 2.06-2.06.94z\"/><path d=\"M17.41 7.96l-1.37-1.37c-.4-.4-.92-.59-1.43-.59-.52 0-1.04.2-1.43.59L10.3 9.45l-7.72 7.72c-.78.78-.78 2.05 0 2.83L4 21.41c.39.39.9.59 1.41.59.51 0 1.02-.2 1.41-.59l7.78-7.78 2.81-2.81c.8-.78.8-2.07 0-2.86zM5.41 20L4 18.59l7.72-7.72 1.47 1.35L5.41 20z\"/>\n",
              "  </svg>\n",
              "      </button>\n",
              "      \n",
              "  <style>\n",
              "    .colab-df-container {\n",
              "      display:flex;\n",
              "      flex-wrap:wrap;\n",
              "      gap: 12px;\n",
              "    }\n",
              "\n",
              "    .colab-df-convert {\n",
              "      background-color: #E8F0FE;\n",
              "      border: none;\n",
              "      border-radius: 50%;\n",
              "      cursor: pointer;\n",
              "      display: none;\n",
              "      fill: #1967D2;\n",
              "      height: 32px;\n",
              "      padding: 0 0 0 0;\n",
              "      width: 32px;\n",
              "    }\n",
              "\n",
              "    .colab-df-convert:hover {\n",
              "      background-color: #E2EBFA;\n",
              "      box-shadow: 0px 1px 2px rgba(60, 64, 67, 0.3), 0px 1px 3px 1px rgba(60, 64, 67, 0.15);\n",
              "      fill: #174EA6;\n",
              "    }\n",
              "\n",
              "    [theme=dark] .colab-df-convert {\n",
              "      background-color: #3B4455;\n",
              "      fill: #D2E3FC;\n",
              "    }\n",
              "\n",
              "    [theme=dark] .colab-df-convert:hover {\n",
              "      background-color: #434B5C;\n",
              "      box-shadow: 0px 1px 3px 1px rgba(0, 0, 0, 0.15);\n",
              "      filter: drop-shadow(0px 1px 2px rgba(0, 0, 0, 0.3));\n",
              "      fill: #FFFFFF;\n",
              "    }\n",
              "  </style>\n",
              "\n",
              "      <script>\n",
              "        const buttonEl =\n",
              "          document.querySelector('#df-c38dc0a6-6a6e-4c57-987f-ef705a301872 button.colab-df-convert');\n",
              "        buttonEl.style.display =\n",
              "          google.colab.kernel.accessAllowed ? 'block' : 'none';\n",
              "\n",
              "        async function convertToInteractive(key) {\n",
              "          const element = document.querySelector('#df-c38dc0a6-6a6e-4c57-987f-ef705a301872');\n",
              "          const dataTable =\n",
              "            await google.colab.kernel.invokeFunction('convertToInteractive',\n",
              "                                                     [key], {});\n",
              "          if (!dataTable) return;\n",
              "\n",
              "          const docLinkHtml = 'Like what you see? Visit the ' +\n",
              "            '<a target=\"_blank\" href=https://colab.research.google.com/notebooks/data_table.ipynb>data table notebook</a>'\n",
              "            + ' to learn more about interactive tables.';\n",
              "          element.innerHTML = '';\n",
              "          dataTable['output_type'] = 'display_data';\n",
              "          await google.colab.output.renderOutput(dataTable, element);\n",
              "          const docLink = document.createElement('div');\n",
              "          docLink.innerHTML = docLinkHtml;\n",
              "          element.appendChild(docLink);\n",
              "        }\n",
              "      </script>\n",
              "    </div>\n",
              "  </div>\n",
              "  "
            ]
          },
          "metadata": {},
          "execution_count": 24
        }
      ]
    },
    {
      "cell_type": "code",
      "source": [
        "df.info()"
      ],
      "metadata": {
        "colab": {
          "base_uri": "https://localhost:8080/"
        },
        "id": "bmUnhDWgWxDA",
        "outputId": "0ce36ec9-cb7b-4f77-ecb0-29b3b2ccc5fa"
      },
      "execution_count": null,
      "outputs": [
        {
          "output_type": "stream",
          "name": "stdout",
          "text": [
            "<class 'pandas.core.frame.DataFrame'>\n",
            "RangeIndex: 14620 entries, 0 to 14619\n",
            "Data columns (total 23 columns):\n",
            " #   Column                                 Non-Null Count  Dtype  \n",
            "---  ------                                 --------------  -----  \n",
            " 0   id                                     14620 non-null  int64  \n",
            " 1   Date                                   14620 non-null  int64  \n",
            " 2   number of bedrooms                     14620 non-null  int64  \n",
            " 3   number of bathrooms                    14620 non-null  float64\n",
            " 4   living area                            14620 non-null  int64  \n",
            " 5   lot area                               14620 non-null  int64  \n",
            " 6   number of floors                       14620 non-null  float64\n",
            " 7   waterfront present                     14620 non-null  int64  \n",
            " 8   number of views                        14620 non-null  int64  \n",
            " 9   condition of the house                 14620 non-null  int64  \n",
            " 10  grade of the house                     14620 non-null  int64  \n",
            " 11  Area of the house(excluding basement)  14620 non-null  int64  \n",
            " 12  Area of the basement                   14620 non-null  int64  \n",
            " 13  Built Year                             14620 non-null  int64  \n",
            " 14  Renovation Year                        14620 non-null  int64  \n",
            " 15  Postal Code                            14620 non-null  int64  \n",
            " 16  Lattitude                              14620 non-null  float64\n",
            " 17  Longitude                              14620 non-null  float64\n",
            " 18  living_area_renov                      14620 non-null  int64  \n",
            " 19  lot_area_renov                         14620 non-null  int64  \n",
            " 20  Number of schools nearby               14620 non-null  int64  \n",
            " 21  Distance from the airport              14620 non-null  int64  \n",
            " 22  Price                                  14620 non-null  int64  \n",
            "dtypes: float64(4), int64(19)\n",
            "memory usage: 2.6 MB\n"
          ]
        }
      ]
    },
    {
      "cell_type": "code",
      "source": [
        "df.isnull().sum()"
      ],
      "metadata": {
        "colab": {
          "base_uri": "https://localhost:8080/"
        },
        "id": "wehPlFIAW6Pd",
        "outputId": "5f30824f-199c-4371-9f9b-d4f7dbac6fda"
      },
      "execution_count": null,
      "outputs": [
        {
          "output_type": "execute_result",
          "data": {
            "text/plain": [
              "id                                       0\n",
              "Date                                     0\n",
              "number of bedrooms                       0\n",
              "number of bathrooms                      0\n",
              "living area                              0\n",
              "lot area                                 0\n",
              "number of floors                         0\n",
              "waterfront present                       0\n",
              "number of views                          0\n",
              "condition of the house                   0\n",
              "grade of the house                       0\n",
              "Area of the house(excluding basement)    0\n",
              "Area of the basement                     0\n",
              "Built Year                               0\n",
              "Renovation Year                          0\n",
              "Postal Code                              0\n",
              "Lattitude                                0\n",
              "Longitude                                0\n",
              "living_area_renov                        0\n",
              "lot_area_renov                           0\n",
              "Number of schools nearby                 0\n",
              "Distance from the airport                0\n",
              "Price                                    0\n",
              "dtype: int64"
            ]
          },
          "metadata": {},
          "execution_count": 26
        }
      ]
    },
    {
      "cell_type": "code",
      "source": [
        "df['Price'].unique()"
      ],
      "metadata": {
        "colab": {
          "base_uri": "https://localhost:8080/"
        },
        "id": "_ymBBLkPXFfZ",
        "outputId": "7bf17915-a0e9-46df-e138-adf575ed4583"
      },
      "execution_count": null,
      "outputs": [
        {
          "output_type": "execute_result",
          "data": {
            "text/plain": [
              "array([2380000, 1400000, 1200000, ...,  221700,  219200,  146000])"
            ]
          },
          "metadata": {},
          "execution_count": 27
        }
      ]
    },
    {
      "cell_type": "code",
      "source": [
        "from sklearn.preprocessing import LabelEncoder"
      ],
      "metadata": {
        "id": "TZQ75R5ZX4cH"
      },
      "execution_count": null,
      "outputs": []
    },
    {
      "cell_type": "code",
      "source": [
        "le=LabelEncoder()"
      ],
      "metadata": {
        "id": "0odEO2CFYMt-"
      },
      "execution_count": null,
      "outputs": []
    },
    {
      "cell_type": "code",
      "source": [
        "df['Price']=le.fit_transform(df['Price'])"
      ],
      "metadata": {
        "id": "TgSuWRWEYXFP"
      },
      "execution_count": null,
      "outputs": []
    },
    {
      "cell_type": "code",
      "source": [
        "df['Price'].unique()"
      ],
      "metadata": {
        "colab": {
          "base_uri": "https://localhost:8080/"
        },
        "id": "edYPgMHhYo6H",
        "outputId": "18a3a2c1-2e63-4ad3-a896-b203756c30c6"
      },
      "execution_count": null,
      "outputs": [
        {
          "output_type": "execute_result",
          "data": {
            "text/plain": [
              "array([2849, 2768, 2748, ...,  284,  277,   60])"
            ]
          },
          "metadata": {},
          "execution_count": 31
        }
      ]
    },
    {
      "cell_type": "code",
      "source": [
        "df.info()"
      ],
      "metadata": {
        "colab": {
          "base_uri": "https://localhost:8080/"
        },
        "id": "dFC2gYhMY0Ln",
        "outputId": "5ea39e2a-a31c-4724-86be-7c8c7bd79026"
      },
      "execution_count": null,
      "outputs": [
        {
          "output_type": "stream",
          "name": "stdout",
          "text": [
            "<class 'pandas.core.frame.DataFrame'>\n",
            "RangeIndex: 14620 entries, 0 to 14619\n",
            "Data columns (total 23 columns):\n",
            " #   Column                                 Non-Null Count  Dtype  \n",
            "---  ------                                 --------------  -----  \n",
            " 0   id                                     14620 non-null  int64  \n",
            " 1   Date                                   14620 non-null  int64  \n",
            " 2   number of bedrooms                     14620 non-null  int64  \n",
            " 3   number of bathrooms                    14620 non-null  float64\n",
            " 4   living area                            14620 non-null  int64  \n",
            " 5   lot area                               14620 non-null  int64  \n",
            " 6   number of floors                       14620 non-null  float64\n",
            " 7   waterfront present                     14620 non-null  int64  \n",
            " 8   number of views                        14620 non-null  int64  \n",
            " 9   condition of the house                 14620 non-null  int64  \n",
            " 10  grade of the house                     14620 non-null  int64  \n",
            " 11  Area of the house(excluding basement)  14620 non-null  int64  \n",
            " 12  Area of the basement                   14620 non-null  int64  \n",
            " 13  Built Year                             14620 non-null  int64  \n",
            " 14  Renovation Year                        14620 non-null  int64  \n",
            " 15  Postal Code                            14620 non-null  int64  \n",
            " 16  Lattitude                              14620 non-null  float64\n",
            " 17  Longitude                              14620 non-null  float64\n",
            " 18  living_area_renov                      14620 non-null  int64  \n",
            " 19  lot_area_renov                         14620 non-null  int64  \n",
            " 20  Number of schools nearby               14620 non-null  int64  \n",
            " 21  Distance from the airport              14620 non-null  int64  \n",
            " 22  Price                                  14620 non-null  int64  \n",
            "dtypes: float64(4), int64(19)\n",
            "memory usage: 2.6 MB\n"
          ]
        }
      ]
    },
    {
      "cell_type": "code",
      "source": [
        "x=df.drop('Built Year',axis=1)\n",
        "x.head()"
      ],
      "metadata": {
        "colab": {
          "base_uri": "https://localhost:8080/",
          "height": 351
        },
        "id": "l9fxVW_JY67o",
        "outputId": "1b2a97e8-4c74-4cfd-c7f3-6128cbb89206"
      },
      "execution_count": null,
      "outputs": [
        {
          "output_type": "execute_result",
          "data": {
            "text/plain": [
              "           id   Date  number of bedrooms  number of bathrooms  living area  \\\n",
              "0  6762810145  42491                   5                 2.50         3650   \n",
              "1  6762810635  42491                   4                 2.50         2920   \n",
              "2  6762810998  42491                   5                 2.75         2910   \n",
              "3  6762812605  42491                   4                 2.50         3310   \n",
              "4  6762812919  42491                   3                 2.00         2710   \n",
              "\n",
              "   lot area  number of floors  waterfront present  number of views  \\\n",
              "0      9050               2.0                   0                4   \n",
              "1      4000               1.5                   0                0   \n",
              "2      9480               1.5                   0                0   \n",
              "3     42998               2.0                   0                0   \n",
              "4      4500               1.5                   0                0   \n",
              "\n",
              "   condition of the house  ...  Area of the basement  Renovation Year  \\\n",
              "0                       5  ...                   280                0   \n",
              "1                       5  ...                  1010                0   \n",
              "2                       3  ...                     0                0   \n",
              "3                       3  ...                     0                0   \n",
              "4                       4  ...                   830                0   \n",
              "\n",
              "   Postal Code  Lattitude  Longitude  living_area_renov  lot_area_renov  \\\n",
              "0       122003    52.8645   -114.557               2880            5400   \n",
              "1       122004    52.8878   -114.470               2470            4000   \n",
              "2       122004    52.8852   -114.468               2940            6600   \n",
              "3       122005    52.9532   -114.321               3350           42847   \n",
              "4       122006    52.9047   -114.485               2060            4500   \n",
              "\n",
              "   Number of schools nearby  Distance from the airport  Price  \n",
              "0                         2                         58   2849  \n",
              "1                         2                         51   2768  \n",
              "2                         1                         53   2748  \n",
              "3                         3                         76   2487  \n",
              "4                         1                         51   2420  \n",
              "\n",
              "[5 rows x 22 columns]"
            ],
            "text/html": [
              "\n",
              "  <div id=\"df-8861033a-4ce1-40bc-8071-d6ff88ef80e5\">\n",
              "    <div class=\"colab-df-container\">\n",
              "      <div>\n",
              "<style scoped>\n",
              "    .dataframe tbody tr th:only-of-type {\n",
              "        vertical-align: middle;\n",
              "    }\n",
              "\n",
              "    .dataframe tbody tr th {\n",
              "        vertical-align: top;\n",
              "    }\n",
              "\n",
              "    .dataframe thead th {\n",
              "        text-align: right;\n",
              "    }\n",
              "</style>\n",
              "<table border=\"1\" class=\"dataframe\">\n",
              "  <thead>\n",
              "    <tr style=\"text-align: right;\">\n",
              "      <th></th>\n",
              "      <th>id</th>\n",
              "      <th>Date</th>\n",
              "      <th>number of bedrooms</th>\n",
              "      <th>number of bathrooms</th>\n",
              "      <th>living area</th>\n",
              "      <th>lot area</th>\n",
              "      <th>number of floors</th>\n",
              "      <th>waterfront present</th>\n",
              "      <th>number of views</th>\n",
              "      <th>condition of the house</th>\n",
              "      <th>...</th>\n",
              "      <th>Area of the basement</th>\n",
              "      <th>Renovation Year</th>\n",
              "      <th>Postal Code</th>\n",
              "      <th>Lattitude</th>\n",
              "      <th>Longitude</th>\n",
              "      <th>living_area_renov</th>\n",
              "      <th>lot_area_renov</th>\n",
              "      <th>Number of schools nearby</th>\n",
              "      <th>Distance from the airport</th>\n",
              "      <th>Price</th>\n",
              "    </tr>\n",
              "  </thead>\n",
              "  <tbody>\n",
              "    <tr>\n",
              "      <th>0</th>\n",
              "      <td>6762810145</td>\n",
              "      <td>42491</td>\n",
              "      <td>5</td>\n",
              "      <td>2.50</td>\n",
              "      <td>3650</td>\n",
              "      <td>9050</td>\n",
              "      <td>2.0</td>\n",
              "      <td>0</td>\n",
              "      <td>4</td>\n",
              "      <td>5</td>\n",
              "      <td>...</td>\n",
              "      <td>280</td>\n",
              "      <td>0</td>\n",
              "      <td>122003</td>\n",
              "      <td>52.8645</td>\n",
              "      <td>-114.557</td>\n",
              "      <td>2880</td>\n",
              "      <td>5400</td>\n",
              "      <td>2</td>\n",
              "      <td>58</td>\n",
              "      <td>2849</td>\n",
              "    </tr>\n",
              "    <tr>\n",
              "      <th>1</th>\n",
              "      <td>6762810635</td>\n",
              "      <td>42491</td>\n",
              "      <td>4</td>\n",
              "      <td>2.50</td>\n",
              "      <td>2920</td>\n",
              "      <td>4000</td>\n",
              "      <td>1.5</td>\n",
              "      <td>0</td>\n",
              "      <td>0</td>\n",
              "      <td>5</td>\n",
              "      <td>...</td>\n",
              "      <td>1010</td>\n",
              "      <td>0</td>\n",
              "      <td>122004</td>\n",
              "      <td>52.8878</td>\n",
              "      <td>-114.470</td>\n",
              "      <td>2470</td>\n",
              "      <td>4000</td>\n",
              "      <td>2</td>\n",
              "      <td>51</td>\n",
              "      <td>2768</td>\n",
              "    </tr>\n",
              "    <tr>\n",
              "      <th>2</th>\n",
              "      <td>6762810998</td>\n",
              "      <td>42491</td>\n",
              "      <td>5</td>\n",
              "      <td>2.75</td>\n",
              "      <td>2910</td>\n",
              "      <td>9480</td>\n",
              "      <td>1.5</td>\n",
              "      <td>0</td>\n",
              "      <td>0</td>\n",
              "      <td>3</td>\n",
              "      <td>...</td>\n",
              "      <td>0</td>\n",
              "      <td>0</td>\n",
              "      <td>122004</td>\n",
              "      <td>52.8852</td>\n",
              "      <td>-114.468</td>\n",
              "      <td>2940</td>\n",
              "      <td>6600</td>\n",
              "      <td>1</td>\n",
              "      <td>53</td>\n",
              "      <td>2748</td>\n",
              "    </tr>\n",
              "    <tr>\n",
              "      <th>3</th>\n",
              "      <td>6762812605</td>\n",
              "      <td>42491</td>\n",
              "      <td>4</td>\n",
              "      <td>2.50</td>\n",
              "      <td>3310</td>\n",
              "      <td>42998</td>\n",
              "      <td>2.0</td>\n",
              "      <td>0</td>\n",
              "      <td>0</td>\n",
              "      <td>3</td>\n",
              "      <td>...</td>\n",
              "      <td>0</td>\n",
              "      <td>0</td>\n",
              "      <td>122005</td>\n",
              "      <td>52.9532</td>\n",
              "      <td>-114.321</td>\n",
              "      <td>3350</td>\n",
              "      <td>42847</td>\n",
              "      <td>3</td>\n",
              "      <td>76</td>\n",
              "      <td>2487</td>\n",
              "    </tr>\n",
              "    <tr>\n",
              "      <th>4</th>\n",
              "      <td>6762812919</td>\n",
              "      <td>42491</td>\n",
              "      <td>3</td>\n",
              "      <td>2.00</td>\n",
              "      <td>2710</td>\n",
              "      <td>4500</td>\n",
              "      <td>1.5</td>\n",
              "      <td>0</td>\n",
              "      <td>0</td>\n",
              "      <td>4</td>\n",
              "      <td>...</td>\n",
              "      <td>830</td>\n",
              "      <td>0</td>\n",
              "      <td>122006</td>\n",
              "      <td>52.9047</td>\n",
              "      <td>-114.485</td>\n",
              "      <td>2060</td>\n",
              "      <td>4500</td>\n",
              "      <td>1</td>\n",
              "      <td>51</td>\n",
              "      <td>2420</td>\n",
              "    </tr>\n",
              "  </tbody>\n",
              "</table>\n",
              "<p>5 rows × 22 columns</p>\n",
              "</div>\n",
              "      <button class=\"colab-df-convert\" onclick=\"convertToInteractive('df-8861033a-4ce1-40bc-8071-d6ff88ef80e5')\"\n",
              "              title=\"Convert this dataframe to an interactive table.\"\n",
              "              style=\"display:none;\">\n",
              "        \n",
              "  <svg xmlns=\"http://www.w3.org/2000/svg\" height=\"24px\"viewBox=\"0 0 24 24\"\n",
              "       width=\"24px\">\n",
              "    <path d=\"M0 0h24v24H0V0z\" fill=\"none\"/>\n",
              "    <path d=\"M18.56 5.44l.94 2.06.94-2.06 2.06-.94-2.06-.94-.94-2.06-.94 2.06-2.06.94zm-11 1L8.5 8.5l.94-2.06 2.06-.94-2.06-.94L8.5 2.5l-.94 2.06-2.06.94zm10 10l.94 2.06.94-2.06 2.06-.94-2.06-.94-.94-2.06-.94 2.06-2.06.94z\"/><path d=\"M17.41 7.96l-1.37-1.37c-.4-.4-.92-.59-1.43-.59-.52 0-1.04.2-1.43.59L10.3 9.45l-7.72 7.72c-.78.78-.78 2.05 0 2.83L4 21.41c.39.39.9.59 1.41.59.51 0 1.02-.2 1.41-.59l7.78-7.78 2.81-2.81c.8-.78.8-2.07 0-2.86zM5.41 20L4 18.59l7.72-7.72 1.47 1.35L5.41 20z\"/>\n",
              "  </svg>\n",
              "      </button>\n",
              "      \n",
              "  <style>\n",
              "    .colab-df-container {\n",
              "      display:flex;\n",
              "      flex-wrap:wrap;\n",
              "      gap: 12px;\n",
              "    }\n",
              "\n",
              "    .colab-df-convert {\n",
              "      background-color: #E8F0FE;\n",
              "      border: none;\n",
              "      border-radius: 50%;\n",
              "      cursor: pointer;\n",
              "      display: none;\n",
              "      fill: #1967D2;\n",
              "      height: 32px;\n",
              "      padding: 0 0 0 0;\n",
              "      width: 32px;\n",
              "    }\n",
              "\n",
              "    .colab-df-convert:hover {\n",
              "      background-color: #E2EBFA;\n",
              "      box-shadow: 0px 1px 2px rgba(60, 64, 67, 0.3), 0px 1px 3px 1px rgba(60, 64, 67, 0.15);\n",
              "      fill: #174EA6;\n",
              "    }\n",
              "\n",
              "    [theme=dark] .colab-df-convert {\n",
              "      background-color: #3B4455;\n",
              "      fill: #D2E3FC;\n",
              "    }\n",
              "\n",
              "    [theme=dark] .colab-df-convert:hover {\n",
              "      background-color: #434B5C;\n",
              "      box-shadow: 0px 1px 3px 1px rgba(0, 0, 0, 0.15);\n",
              "      filter: drop-shadow(0px 1px 2px rgba(0, 0, 0, 0.3));\n",
              "      fill: #FFFFFF;\n",
              "    }\n",
              "  </style>\n",
              "\n",
              "      <script>\n",
              "        const buttonEl =\n",
              "          document.querySelector('#df-8861033a-4ce1-40bc-8071-d6ff88ef80e5 button.colab-df-convert');\n",
              "        buttonEl.style.display =\n",
              "          google.colab.kernel.accessAllowed ? 'block' : 'none';\n",
              "\n",
              "        async function convertToInteractive(key) {\n",
              "          const element = document.querySelector('#df-8861033a-4ce1-40bc-8071-d6ff88ef80e5');\n",
              "          const dataTable =\n",
              "            await google.colab.kernel.invokeFunction('convertToInteractive',\n",
              "                                                     [key], {});\n",
              "          if (!dataTable) return;\n",
              "\n",
              "          const docLinkHtml = 'Like what you see? Visit the ' +\n",
              "            '<a target=\"_blank\" href=https://colab.research.google.com/notebooks/data_table.ipynb>data table notebook</a>'\n",
              "            + ' to learn more about interactive tables.';\n",
              "          element.innerHTML = '';\n",
              "          dataTable['output_type'] = 'display_data';\n",
              "          await google.colab.output.renderOutput(dataTable, element);\n",
              "          const docLink = document.createElement('div');\n",
              "          docLink.innerHTML = docLinkHtml;\n",
              "          element.appendChild(docLink);\n",
              "        }\n",
              "      </script>\n",
              "    </div>\n",
              "  </div>\n",
              "  "
            ]
          },
          "metadata": {},
          "execution_count": 33
        }
      ]
    },
    {
      "cell_type": "code",
      "source": [
        "y=df['Built Year']\n",
        "y"
      ],
      "metadata": {
        "colab": {
          "base_uri": "https://localhost:8080/"
        },
        "id": "YXWAkl7dZJW3",
        "outputId": "ea80afd0-e8fe-40ac-ef95-ca22a01035c9"
      },
      "execution_count": null,
      "outputs": [
        {
          "output_type": "execute_result",
          "data": {
            "text/plain": [
              "0        1921\n",
              "1        1909\n",
              "2        1939\n",
              "3        2001\n",
              "4        1929\n",
              "         ... \n",
              "14615    1957\n",
              "14616    1968\n",
              "14617    1962\n",
              "14618    1955\n",
              "14619    1969\n",
              "Name: Built Year, Length: 14620, dtype: int64"
            ]
          },
          "metadata": {},
          "execution_count": 34
        }
      ]
    },
    {
      "cell_type": "code",
      "source": [
        "from sklearn.model_selection import train_test_split"
      ],
      "metadata": {
        "id": "XmB1emVfZUl0"
      },
      "execution_count": null,
      "outputs": []
    },
    {
      "cell_type": "code",
      "source": [
        "xtrain,xtest,ytrain,ytest=train_test_split(x,y,test_size=0.2,random_state=12)"
      ],
      "metadata": {
        "id": "lXdFz0U-Zhmw"
      },
      "execution_count": null,
      "outputs": []
    },
    {
      "cell_type": "code",
      "source": [
        "from tensorflow.keras.models import Sequential\n",
        "from tensorflow.keras.layers import Dense"
      ],
      "metadata": {
        "id": "gR-aBdwTZ4Bj"
      },
      "execution_count": null,
      "outputs": []
    },
    {
      "cell_type": "code",
      "source": [
        "reg=Sequential()\n",
        "reg.add(Dense(4,activation='relu'))\n",
        "reg.add(Dense(12,activation='relu'))\n",
        "reg.add(Dense(32,activation='relu'))\n",
        "reg.add(Dense(1,activation='linear'))"
      ],
      "metadata": {
        "id": "WFnoNlFeaTkI"
      },
      "execution_count": null,
      "outputs": []
    },
    {
      "cell_type": "code",
      "source": [
        "reg.compile(optimizer='adam',loss='mse',metrics=['mse'])"
      ],
      "metadata": {
        "id": "m5jioFc_blbp"
      },
      "execution_count": null,
      "outputs": []
    },
    {
      "cell_type": "code",
      "source": [
        "reg.fit(xtrain,ytrain,batch_size=10,epochs=25,validation_data=(xtest,ytest))"
      ],
      "metadata": {
        "colab": {
          "base_uri": "https://localhost:8080/"
        },
        "id": "2JeZZH-cfCMc",
        "outputId": "9b37b135-e8de-405b-9ee8-8fa8f5248c8b"
      },
      "execution_count": null,
      "outputs": [
        {
          "output_type": "stream",
          "name": "stdout",
          "text": [
            "Epoch 1/25\n",
            "1170/1170 [==============================] - 5s 3ms/step - loss: 1709575627603968.0000 - mse: 1709575627603968.0000 - val_loss: 2936959.0000 - val_mse: 2936959.0000\n",
            "Epoch 2/25\n",
            "1170/1170 [==============================] - 3s 2ms/step - loss: 2851325.2500 - mse: 2851325.2500 - val_loss: 2911570.0000 - val_mse: 2911570.0000\n",
            "Epoch 3/25\n",
            "1170/1170 [==============================] - 2s 2ms/step - loss: 3181272.5000 - mse: 3181272.0000 - val_loss: 3043910.7500 - val_mse: 3043910.7500\n",
            "Epoch 4/25\n",
            "1170/1170 [==============================] - 2s 2ms/step - loss: 3363037.7500 - mse: 3363037.7500 - val_loss: 4806839.0000 - val_mse: 4806839.0000\n",
            "Epoch 5/25\n",
            "1170/1170 [==============================] - 3s 2ms/step - loss: 4211487.0000 - mse: 4211487.0000 - val_loss: 3573164.2500 - val_mse: 3573163.5000\n",
            "Epoch 6/25\n",
            "1170/1170 [==============================] - 3s 3ms/step - loss: 6400050.5000 - mse: 6400050.5000 - val_loss: 23822142.0000 - val_mse: 23822142.0000\n",
            "Epoch 7/25\n",
            "1170/1170 [==============================] - 3s 3ms/step - loss: 21001610.0000 - mse: 21001610.0000 - val_loss: 176571440.0000 - val_mse: 176571440.0000\n",
            "Epoch 8/25\n",
            "1170/1170 [==============================] - 2s 2ms/step - loss: 383396970496.0000 - mse: 383396970496.0000 - val_loss: 101842477056.0000 - val_mse: 101842477056.0000\n",
            "Epoch 9/25\n",
            "1170/1170 [==============================] - 2s 2ms/step - loss: 414716133376.0000 - mse: 414716133376.0000 - val_loss: 13048633344.0000 - val_mse: 13048633344.0000\n",
            "Epoch 10/25\n",
            "1170/1170 [==============================] - 3s 2ms/step - loss: 427404525568.0000 - mse: 427404525568.0000 - val_loss: 616846196736.0000 - val_mse: 616846196736.0000\n",
            "Epoch 11/25\n",
            "1170/1170 [==============================] - 3s 3ms/step - loss: 388338253824.0000 - mse: 388338253824.0000 - val_loss: 2366438375424.0000 - val_mse: 2366438375424.0000\n",
            "Epoch 12/25\n",
            "1170/1170 [==============================] - 3s 3ms/step - loss: 409407488000.0000 - mse: 409407488000.0000 - val_loss: 112936222720.0000 - val_mse: 112936222720.0000\n",
            "Epoch 13/25\n",
            "1170/1170 [==============================] - 3s 2ms/step - loss: 334446362624.0000 - mse: 334446362624.0000 - val_loss: 1649994752.0000 - val_mse: 1649994752.0000\n",
            "Epoch 14/25\n",
            "1170/1170 [==============================] - 2s 2ms/step - loss: 371467681792.0000 - mse: 371467681792.0000 - val_loss: 47270772.0000 - val_mse: 47270772.0000\n",
            "Epoch 15/25\n",
            "1170/1170 [==============================] - 3s 2ms/step - loss: 344173740032.0000 - mse: 344173740032.0000 - val_loss: 9285821440.0000 - val_mse: 9285821440.0000\n",
            "Epoch 16/25\n",
            "1170/1170 [==============================] - 3s 3ms/step - loss: 334974124032.0000 - mse: 334974124032.0000 - val_loss: 186529088.0000 - val_mse: 186529104.0000\n",
            "Epoch 17/25\n",
            "1170/1170 [==============================] - 3s 3ms/step - loss: 324993253376.0000 - mse: 324993253376.0000 - val_loss: 69606960.0000 - val_mse: 69606960.0000\n",
            "Epoch 18/25\n",
            "1170/1170 [==============================] - 3s 2ms/step - loss: 320409468928.0000 - mse: 320409501696.0000 - val_loss: 1190639104.0000 - val_mse: 1190639104.0000\n",
            "Epoch 19/25\n",
            "1170/1170 [==============================] - 3s 2ms/step - loss: 336486760448.0000 - mse: 336486760448.0000 - val_loss: 12874781696.0000 - val_mse: 12874781696.0000\n",
            "Epoch 20/25\n",
            "1170/1170 [==============================] - 3s 2ms/step - loss: 283167358976.0000 - mse: 283167391744.0000 - val_loss: 733718577152.0000 - val_mse: 733718577152.0000\n",
            "Epoch 21/25\n",
            "1170/1170 [==============================] - 3s 3ms/step - loss: 277548859392.0000 - mse: 277548859392.0000 - val_loss: 3410993408.0000 - val_mse: 3410993408.0000\n",
            "Epoch 22/25\n",
            "1170/1170 [==============================] - 3s 3ms/step - loss: 277235105792.0000 - mse: 277235105792.0000 - val_loss: 1082801152.0000 - val_mse: 1082801152.0000\n",
            "Epoch 23/25\n",
            "1170/1170 [==============================] - 2s 2ms/step - loss: 248189976576.0000 - mse: 248189976576.0000 - val_loss: 51890648.0000 - val_mse: 51890648.0000\n",
            "Epoch 24/25\n",
            "1170/1170 [==============================] - 2s 2ms/step - loss: 255651201024.0000 - mse: 255651201024.0000 - val_loss: 142248240.0000 - val_mse: 142248240.0000\n",
            "Epoch 25/25\n",
            "1170/1170 [==============================] - 3s 2ms/step - loss: 242583814144.0000 - mse: 242583814144.0000 - val_loss: 6152204800.0000 - val_mse: 6152204800.0000\n"
          ]
        },
        {
          "output_type": "execute_result",
          "data": {
            "text/plain": [
              "<keras.callbacks.History at 0x7f6c1cd17ac0>"
            ]
          },
          "metadata": {},
          "execution_count": 40
        }
      ]
    },
    {
      "cell_type": "code",
      "source": [],
      "metadata": {
        "id": "tGqAmvIjf9Gn"
      },
      "execution_count": null,
      "outputs": []
    }
  ]
}